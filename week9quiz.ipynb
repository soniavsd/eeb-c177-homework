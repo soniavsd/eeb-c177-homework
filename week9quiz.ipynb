{
 "cells": [
  {
   "cell_type": "markdown",
   "metadata": {},
   "source": [
    "# EEB C177/C234 Week 9 Quiz\n",
    "## Regular Expressions in Python\n",
    "### (100 points)"
   ]
  },
  {
   "cell_type": "markdown",
   "metadata": {},
   "source": [
    "## Please Write Name and Student ID in Cell Below:"
   ]
  },
  {
   "cell_type": "markdown",
   "metadata": {},
   "source": [
    "## Vanessa Ramos UID:205190999"
   ]
  },
  {
   "cell_type": "markdown",
   "metadata": {},
   "source": []
  },
  {
   "cell_type": "markdown",
   "metadata": {},
   "source": [
    "### Instructions\n",
    "This quiz will be timed, you will have no more than 1 hour to complete the following quiz. The content on this quiz includes regular expressions performed within the Python language. **This quiz is fair:** All questions are either directly from lab/lecture or are adaptations of past regular expression patterns that you have written for this class. There is one extra credit **challenge** question to complete if you have time. This extra credit question will be worth **15 points** and will only be given **full credit** if the solution is complete and accurate (i.e., no partial extra credit: 15 points or nothing).\n",
    "\n",
    "In order to receive full credit for your solution, your code must run and produce the desired output. Partial credit will only be granted for solutions that are partly complete and headed in the right direction.\n",
    "\n",
    "Please **read** and **follow** all directions carefully and completely. For all questions, please **write your code in the cell directly below the question** and **include comments justifying your code/solution (worth 5 points of each question)**."
   ]
  },
  {
   "cell_type": "markdown",
   "metadata": {},
   "source": [
    "## Question 1 (20 points): Write a function that can be re-used throughout this quiz that allows you to check if a provided pattern is present within a given string. Return a boolean value (i.e., True/False) depending on whether or not the pattern is matched in the provided string. Please only write the function definition in the cell below (failing to follow directions will result in lost points)."
   ]
  },
  {
   "cell_type": "code",
   "execution_count": 24,
   "metadata": {},
   "outputs": [],
   "source": [
    "#step 1:import re to allow regular expression\n",
    "#step 2: create a function and define what charRE and string is and does\n",
    "#step3: return a bool with a not statement(to be more specific) of a string"
   ]
  },
  {
   "cell_type": "code",
   "execution_count": 25,
   "metadata": {},
   "outputs": [
    {
     "ename": "SyntaxError",
     "evalue": "EOL while scanning string literal (<ipython-input-25-67d756424b4b>, line 3)",
     "output_type": "error",
     "traceback": [
      "\u001b[0;36m  File \u001b[0;32m\"<ipython-input-25-67d756424b4b>\"\u001b[0;36m, line \u001b[0;32m3\u001b[0m\n\u001b[0;31m    charRe= re.compile(r'[A-Za-z])\u001b[0m\n\u001b[0m                                  ^\u001b[0m\n\u001b[0;31mSyntaxError\u001b[0m\u001b[0;31m:\u001b[0m EOL while scanning string literal\n"
     ]
    }
   ],
   "source": [
    "\n",
    "import re\n",
    "def check_string(string):\n",
    "    charRe= re.compile(r'[A-Za-z])\n",
    "    string=charRe.search(string)\n",
    "    return not bool(string)\n",
    "    "
   ]
  },
  {
   "cell_type": "markdown",
   "metadata": {},
   "source": [
    "## Question 2 (20 points): Use your function from question 1 to check if the string below matches any words beginning with the letter `s`. Note: should capture whole words.\n",
    "\n",
    "> Natural Selection: its power compared with man’s selection, its power on characters of trifling importance, its power at all ages and on both sexes. Sexual Selection. On the generality of intercrosses between individuals of the same species. Circumstances favourable and unfavourable to Natural Selection, namely, intercrossing, isolation, number of individuals. Slow action. Extinction caused by Natural Selection. Divergence of Character, related to the diversity of inhabitants of any small area, and to naturalisation. Action of Natural Selection, through Divergence of Character and Extinction, on the descendants from a common parent. Explains the Grouping of all organic beings. How will the struggle for existence, discussed too briefly in the last chapter, act in regard to variation? Can the principle of selection, which we have seen is so potent in the hands of man, apply in nature? I think we shall see that it can act most effectually. Let it be borne in mind in what an endless number of strange peculiarities our domestic productions, and, in a lesser degree, those under nature, vary; and how strong the hereditary tendency is. Under domestication, it may be truly said that the whole organisation becomes in some degree plastic. Let it be borne in mind how infinitely complex and close-fitting are the mutual relations of all organic beings to each other and to their physical conditions of life. Can it, then, be thought improbable, seeing that variations useful to man have undoubtedly occurred, that other variations useful in some way to each being in the great and complex battle of life, should sometimes occur in the course of thousands of generations? If such do occur, can we doubt (remembering that many more individuals are born than can possibly survive) that individuals having any advantage, however slight, over others, would have the best chance of surviving and of procreating their kind? On the other hand, we may feel sure that any variation in the least degree injurious would be rigidly destroyed. This preservation of favourable variations and the rejection of injurious variations, I call Natural Selection. Variations neither useful nor injurious would not be affected by natural selection, and would be left a fluctuating element, as perhaps we see in the species called polymorphic."
   ]
  },
  {
   "cell_type": "code",
   "execution_count": 8,
   "metadata": {},
   "outputs": [
    {
     "ename": "SyntaxError",
     "evalue": "EOL while scanning string literal (<ipython-input-8-bad9725763d1>, line 6)",
     "output_type": "error",
     "traceback": [
      "\u001b[0;36m  File \u001b[0;32m\"<ipython-input-8-bad9725763d1>\"\u001b[0;36m, line \u001b[0;32m6\u001b[0m\n\u001b[0;31m    charRe= re.compile(r'[s\\s+a-z])\u001b[0m\n\u001b[0m                                   ^\u001b[0m\n\u001b[0;31mSyntaxError\u001b[0m\u001b[0;31m:\u001b[0m EOL while scanning string literal\n"
     ]
    }
   ],
   "source": [
    "#step 1:use function from first question\n",
    "#step 2:create regular expression to capture any words begining with s.\n",
    "#step2.1: capture a whitespace before s (\\s)to make sure it is the first letter of a word\n",
    "#step2.2:to capture the entire word, add a + so at least one gets picked up and a-z\n",
    "def check_string(string):\n",
    "    charRe= re.compile(r'[s\\s+a-z])\n",
    "    string=charRe.search(string)\n",
    "    return not bool(string)"
   ]
  },
  {
   "cell_type": "markdown",
   "metadata": {},
   "source": [
    "## Question 3 (20 points): Use your function from question 1 to check that a string contains only a certain set of characters (in this case a-z, A-Z and 0-9)."
   ]
  },
  {
   "cell_type": "code",
   "execution_count": 10,
   "metadata": {},
   "outputs": [
    {
     "ename": "SyntaxError",
     "evalue": "EOL while scanning string literal (<ipython-input-10-26dda02349ac>, line 3)",
     "output_type": "error",
     "traceback": [
      "\u001b[0;36m  File \u001b[0;32m\"<ipython-input-10-26dda02349ac>\"\u001b[0;36m, line \u001b[0;32m3\u001b[0m\n\u001b[0;31m    charRe= re.compile(r'[A-Za-z0-9])\u001b[0m\n\u001b[0m                                     ^\u001b[0m\n\u001b[0;31mSyntaxError\u001b[0m\u001b[0;31m:\u001b[0m EOL while scanning string literal\n"
     ]
    }
   ],
   "source": [
    "#simply change the regular expression asked for in charRe to create a new pattern to look for\n",
    "def check_string(string):\n",
    "    charRe= re.compile(r'[A-Za-z0-9])\n",
    "    string=charRe.search(string)\n",
    "    return not bool(string)"
   ]
  },
  {
   "cell_type": "markdown",
   "metadata": {},
   "source": [
    "## Question 4 (20 points): Below is a list of elements to search through (from the Bees Database). Write a regular expression that will match (10 points) and print out (10 points) each author name separately."
   ]
  },
  {
   "cell_type": "code",
   "execution_count": null,
   "metadata": {},
   "outputs": [],
   "source": [
    "authors_names = ['(Morawitz, 1877)', 'Cockerell, 1901', '(W. F. Kirby, 1900)', 'Meade-Waldo, 1914', 'Eardley & Brooks, 1989', 'Lepeletier & Audinet-Serville, 1828', 'Michener, LaBerge & Moure, 1955']"
   ]
  },
  {
   "cell_type": "code",
   "execution_count": 18,
   "metadata": {},
   "outputs": [
    {
     "ename": "SyntaxError",
     "evalue": "EOL while scanning string literal (<ipython-input-18-4321607e9ccc>, line 7)",
     "output_type": "error",
     "traceback": [
      "\u001b[0;36m  File \u001b[0;32m\"<ipython-input-18-4321607e9ccc>\"\u001b[0;36m, line \u001b[0;32m7\u001b[0m\n\u001b[0;31m    check=re.match(r'[\\w(,)\\s\\d{4}])\u001b[0m\n\u001b[0m                                    ^\u001b[0m\n\u001b[0;31mSyntaxError\u001b[0m\u001b[0;31m:\u001b[0m EOL while scanning string literal\n"
     ]
    }
   ],
   "source": [
    "#step 1: create a function using def and return\n",
    "#step 2: use re.match to match the authors names\n",
    "#step 3: create a regular expression\n",
    "#step 3.1:capture any word (\\w), followed by a comma always, then a whitespace(\\s). After, capture any digit in 4s (\\d{4})\n",
    "#step4: return all the matches seperately\n",
    "def auth_match(record):\n",
    "    check=re.match(r'[\\w(,)\\s\\d{4}])\n",
    "    record=check.search(record)\n",
    "    return auth_match"
   ]
  },
  {
   "cell_type": "markdown",
   "metadata": {},
   "source": [
    "## Question 5 (20 points): Use your function from question 1 to check if the DNA sequence below matches the following:\n",
    "### 1) any bases with at least 2 c's but no more than 6 c's (10 points).\n",
    "### 2) any `ct` followed by an a,g (not c,t) (10 points).\n",
    "\n",
    "#### Please clearly label the two subquestions using comments within your code."
   ]
  },
  {
   "cell_type": "code",
   "execution_count": 14,
   "metadata": {},
   "outputs": [
    {
     "ename": "SyntaxError",
     "evalue": "EOL while scanning string literal (<ipython-input-14-a691dfc79f91>, line 3)",
     "output_type": "error",
     "traceback": [
      "\u001b[0;36m  File \u001b[0;32m\"<ipython-input-14-a691dfc79f91>\"\u001b[0;36m, line \u001b[0;32m3\u001b[0m\n\u001b[0;31m    charRe= re.compile(r'(c{2,6}))\u001b[0m\n\u001b[0m                                  ^\u001b[0m\n\u001b[0;31mSyntaxError\u001b[0m\u001b[0;31m:\u001b[0m EOL while scanning string literal\n"
     ]
    }
   ],
   "source": [
    "#1 first question\n",
    "#to get a certain amount of c, use the {} function stating {2,6}\n",
    "def check_string(string):\n",
    "    charRe= re.compile(r'[c{2,6}])\n",
    "    string=charRe.search(string)\n",
    "    return not bool(string)"
   ]
  },
  {
   "cell_type": "code",
   "execution_count": 19,
   "metadata": {},
   "outputs": [
    {
     "ename": "SyntaxError",
     "evalue": "EOL while scanning string literal (<ipython-input-19-54f6f5cd8ac9>, line 4)",
     "output_type": "error",
     "traceback": [
      "\u001b[0;36m  File \u001b[0;32m\"<ipython-input-19-54f6f5cd8ac9>\"\u001b[0;36m, line \u001b[0;32m4\u001b[0m\n\u001b[0;31m    charRe= re.compile(r'[ag(ct)])\u001b[0m\n\u001b[0m                                  ^\u001b[0m\n\u001b[0;31mSyntaxError\u001b[0m\u001b[0;31m:\u001b[0m EOL while scanning string literal\n"
     ]
    }
   ],
   "source": [
    "#2 second question\n",
    "#to get a specific pattern, use () and include what is specific. in this case, it is ct\n",
    "def check_string(string):\n",
    "    charRe= re.compile(r'[ag(ct)])\n",
    "    string=charRe.search(string)\n",
    "    return not bool(string)"
   ]
  },
  {
   "cell_type": "markdown",
   "metadata": {},
   "source": [
    "## Extra Credit (15 points, all or nothing): The `findall` function of `re` allows you to find and return the matches of a regex pattern. As such, write a Python program to find all three, four, and five characters long words in the provided string:\n",
    "`The quick brown fox jumps over the lazy dog.`\n",
    "\n",
    "Your output should look something like this: `['The', 'quick', 'brown', 'fox', 'jumps', 'over', 'the', 'lazy', 'dog']`"
   ]
  },
  {
   "cell_type": "code",
   "execution_count": 22,
   "metadata": {},
   "outputs": [
    {
     "ename": "SyntaxError",
     "evalue": "invalid syntax (<ipython-input-22-89bc5df2d987>, line 1)",
     "output_type": "error",
     "traceback": [
      "\u001b[0;36m  File \u001b[0;32m\"<ipython-input-22-89bc5df2d987>\"\u001b[0;36m, line \u001b[0;32m1\u001b[0m\n\u001b[0;31m    sent=(The quick brown fox jumps over the lazy dog)\u001b[0m\n\u001b[0m                  ^\u001b[0m\n\u001b[0;31mSyntaxError\u001b[0m\u001b[0;31m:\u001b[0m invalid syntax\n"
     ]
    }
   ],
   "source": [
    "#first create a list with the desired sentence\n",
    "sent=[The quick brown fox jumps over the lazy dog]\n",
    "def check_string(sent):\n",
    "    char=re.findall(r'[\\w\\s])\n",
    "    sent=char.search(string)\n",
    "print(check_string)"
   ]
  },
  {
   "cell_type": "code",
   "execution_count": null,
   "metadata": {},
   "outputs": [],
   "source": []
  }
 ],
 "metadata": {
  "kernelspec": {
   "display_name": "Python 3",
   "language": "python",
   "name": "python3"
  },
  "language_info": {
   "codemirror_mode": {
    "name": "ipython",
    "version": 3
   },
   "file_extension": ".py",
   "mimetype": "text/x-python",
   "name": "python",
   "nbconvert_exporter": "python",
   "pygments_lexer": "ipython3",
   "version": "3.7.5"
  }
 },
 "nbformat": 4,
 "nbformat_minor": 2
}
