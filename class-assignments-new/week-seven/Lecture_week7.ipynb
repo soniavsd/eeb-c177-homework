{
 "cells": [
  {
   "cell_type": "code",
   "execution_count": 7,
   "metadata": {},
   "outputs": [
    {
     "ename": "SyntaxError",
     "evalue": "invalid syntax (<ipython-input-7-edbca2a6d059>, line 1)",
     "output_type": "error",
     "traceback": [
      "\u001b[0;36m  File \u001b[0;32m\"<ipython-input-7-edbca2a6d059>\"\u001b[0;36m, line \u001b[0;32m1\u001b[0m\n\u001b[0;31m    csv_file=csv.reader(open(fishdata.csv, delimiter \",\", 'r'))\u001b[0m\n\u001b[0m                                                       ^\u001b[0m\n\u001b[0;31mSyntaxError\u001b[0m\u001b[0;31m:\u001b[0m invalid syntax\n"
     ]
    }
   ],
   "source": [
    "csv_file=csv.reader(open(fishdata.csv, delimiter \",\", 'r'))\n",
    "output_file= open (Labridae.txt, \"w+\")\n",
    "with open(fishdata.csv, delimiter ',')\n",
    "for column in fishdata.csv:\n",
    "    if word == column[4]\n",
    "    data2=column\n",
    "    for col in range (4):\n",
    "        outputfile.write(data2[col] + \",\")\n",
    "    output_file.write(data2[4] + \" \")\n",
    "    \n",
    "    output_file.close()"
   ]
  },
  {
   "cell_type": "code",
   "execution_count": 9,
   "metadata": {},
   "outputs": [],
   "source": [
    "import csv"
   ]
  },
  {
   "cell_type": "code",
   "execution_count": 19,
   "metadata": {},
   "outputs": [],
   "source": [
    "with open('fishdata.csv', mode='r') as infile:\n",
    "    reader = csv.reader(infile)\n",
    "    with open('Lab.txt', mode='w+') as outfile:\n",
    "        writer = csv.writer(outfile)\n",
    "        mydict = {rows[1]:rows[3] for rows in reader}"
   ]
  },
  {
   "cell_type": "code",
   "execution_count": 20,
   "metadata": {},
   "outputs": [
    {
     "name": "stdout",
     "output_type": "stream",
     "text": [
      "{'family': 'length', 'Cyprinidae': 'NA', 'Balistidae': '25', 'Tetrarogidae': '30', 'Belonidae': '40', 'Gobiidae': '25', 'Pomacentridae': '14', 'Abyssocottidae': '16.7', 'Monacanthidae': '36', 'Centrarchidae': '49', 'Chaenopsidae': '15', 'Loricariidae': '25', 'Serranidae': '83', 'Cepolidae': '70', 'Balitoridae': '5.1', 'Scombridae': '145', 'Doradidae': '8.6', 'Labridae': '17.5', 'Sparidae': '52', 'Trichomycteridae': '8.4', 'Cobitidae': '5.5', 'Ostraciidae': '30', 'Acanthuridae': '40', 'Cichlidae': '8', 'Acestrorhynchidae': 'NA', 'Soleidae': '19', 'Achiridae': '18', 'Acipenseridae': 'NA', 'Characidae': '15.8', 'Akysidae': '7.5', 'Acropomatidae': '13', 'Fundulidae': '5', 'Apteronotidae': '45.5', 'Centriscidae': '20', 'Pataecidae': '21', 'Nototheniidae': '35', 'Auchenipteridae': '22', 'Agonidae': '24', 'Mugilidae': '25', 'Ophichthidae': '93', 'Notosudidae': '36.4', 'Blenniidae': '12', 'Schilbeidae': '40', 'Bathydraconidae': '24', 'Macrouridae': '31', 'Albulidae': '50', 'Carangidae': '58', 'Stichaeidae': '60', 'Alepisauridae': '23', 'Alepocephalidae': '31', 'Alestiidae': '8.5', 'Poeciliidae': '4', 'Labrisomidae': '6.4', 'Oreosomatidae': '68', 'Goodeidae': '6', 'Diodontidae': '65', 'Osmeridae': '34', 'Clupeidae': '52', 'Ambassidae': '20', 'Amblycipitidae': '10', 'Cirrhitidae': 'NA', 'Ictaluridae': '155', 'Amiidae': '109', 'Ariidae': '52', 'Percidae': '48', 'Ammodytidae': '40', 'Pleuronectidae': '60', 'Chaetodontidae': '11.6', 'Amphiliidae': 'NA', 'Embiotocidae': '20', 'Anabantidae': '20', 'Anablepidae': '15', 'Anarhichadidae': '240', 'Bagridae': '36.1', 'Engraulidae': '15.3', 'Bothidae': '20', 'Anguillidae': '152', 'Haemulidae': '30', 'Aracanidae': '15', 'Anoplogasteridae': '18', 'Anoplopomatidae': '120', 'Anostomidae': 'NA', 'Anotopteridae': '96', 'Antennariidae': '10', 'Caproidae': '30', 'Moridae': '63', 'Gasterosteidae': '22', 'Cyprinodontidae': '10', 'Trichiuridae': '234', 'Lutjanidae': '100', 'Aphredoderidae': '14', 'Rivulidae': '12', 'Nothobranchiidae': '6', 'Gobiesocidae': '3', 'Aploactinidae': 'NA', 'Aplocheilidae': '10', 'Galaxiidae': '8', 'Aplodactylidae': 'NA', 'Sciaenidae': '56', 'Pholidae': '30', 'Apogonidae': '8.5', 'Pomacanthidae': '25', 'Cyclopteridae': '13.2', 'Osteoglossidae': '100', 'Eigenmanniidae': 'NA', 'Gadidae': '40', 'Trichodontidae': '30.5', 'Argentinidae': '24', 'Sternoptychidae': '3.1', 'Ariommatidae': '35', 'Congridae': '87.6', 'Stomiidae': '32', 'Tetraodontidae': '21', 'Hemiramphidae': 'NA', 'Arripidae': '96', 'Artedidraconidae': '19.2', 'Cottidae': '60', 'Callichthyidae': '5.3', 'Triglidae': '40', 'Plesiopidae': '20', 'Astroblepidae': 'NA', 'Megalomycteridae': '4.5', 'Ateleopodidae': 'NA', 'Atherinidae': '3.2', 'Atherinopsidae': '13.5', 'Mochokidae': '43', 'Lepisosteidae': '132', 'Kyphosidae': '40', 'Aulorhynchidae': '18', 'Aulopidae': '60', 'Aulostomidae': '100', 'Trachichthyidae': '42', 'Zoarcidae': '52', 'Nemichthyidae': '130', 'Nandidae': '15', 'Sisoridae': 'NA', 'Banjosidae': '20', 'Barbourisiidae': '39', 'Clariidae': '150', 'Microstomatidae': '16.5', 'Bathymasteridae': '20', 'Ipnopidae': 'NA', 'Bathysauridae': '64', 'Cottocomephoridae': '14.4', 'Pseudopimelodidae': '8.7', 'Bedotiidae': '8.3', 'Siluridae': '150', 'Osphronemidae': '7', 'Bembridae': '30', 'Percophidae': '28', 'Scopelarchidae': 'NA', 'Myctophidae': '4', 'Oneirodidae': 'NA', 'Berycidae': '46', 'Hemitripteridae': '9', 'Scaridae': '64', 'Gonostomatidae': '36', 'Percichthyidae': '40', 'Eleotridae': '7.5', 'Mormyridae': 'NA', 'Bovichthyidae': '36', 'Hypopomidae': '12', 'Salmonidae': '60', 'Pimelodidae': '140', 'Heptapteridae': '47.4', 'Bramidae': '100', 'Malacanthidae': '125', 'Bregmacerotidae': '5.7', 'Lotidae': '200', 'Bythitidae': '7', 'Ophidiidae': '13', 'Aspredinidae': 'NA', 'Chilodontidae': '7.9', 'Caesionidae': '21', 'Melanotaeniidae': '6', 'Callanthiidae': '60', 'Callionymidae': '3.4', 'Caracanthidae': '5', 'Carapidae': '41', 'Liparidae': '31', 'Caristiidae': 'NA', 'Gasteropelecidae': '6.7', 'Catostomidae': '91', 'Centracanthidae': '20', 'Dinopercidae': '75', 'Centrogeniidae': '25', 'Centrolophidae': '66', 'Centropomidae': '112', 'Ceratiidae': '16', 'Microdesmidae': '12', 'Cetomimidae': '6.6', 'Cetopsidae': 'NA', 'Chacidae': 'NA', 'Channichthyidae': '60', 'Ephippidae': '70', 'Champsodontidae': '9.9', 'Channidae': '50', 'Chanidae': '180', 'Crenuchidae': 'NA', 'Chaunacidae': '22.8', 'Cheilodactylidae': '90', 'Exocoetidae': '16', 'Pinguipedidae': '12', 'Chlopsidae': '30.4', 'Chirocentridae': 'NA', 'Chironemidae': '35', 'Notopteridae': '30', 'Chlorophthalmidae': '25', 'Amblyopsidae': '6.8', 'Paralichthyidae': '40', 'Citharinidae': 'NA', 'Citharidae': '36', 'Clinidae': '61', 'Colocongridae': '90', 'Scomberesocidae': '40', 'Comephoridae': '16', 'Congiopodidae': '40', 'Muraenesocidae': '60', 'Priacanthidae': '34', 'Sinipercidae': '15', 'Coryphaenidae': '210', 'Syngnathidae': '26.1', 'Cranoglanididae': '43', 'Cryptacanthodidae': '117', 'Ctenoluciidae': '22.8', 'Nomeidae': '80', 'Cynoglossidae': '8.7', 'Pseudochromidae': '7.2', 'Zeidae': '90', 'Dactylopteridae': '50', 'Umbridae': '11.5', 'Psychrolutidae': '70', 'Datnioididae': '30', 'Scorpaenidae': 'NA', 'Denticipitidae': '15', 'Derichthyidae': '59.8', 'Trachipteridae': '118', 'Gerreidae': '22', 'Ogcocephalidae': '15', 'Moronidae': '200', 'Dichistiidae': 'NA', 'Dinolestidae': '84', 'Diplomystidae': '16.8', 'Gempylidae': '200', 'Diretmidae': '27.6', 'Distichodontidae': '26', 'Opisthoproctidae': 'NA', 'Draconettidae': '9', 'Drepaneidae': '50', 'Synaphobranchidae': '100', 'Echeneidae': '30', 'Muraenidae': '30', 'Trachinidae': '50', 'Elassomatidae': '4.7', 'Platycephalidae': '65', 'Electrophoridae': '250', 'Eleginopidae': 'NA', 'Polynemidae': '45', 'Elopidae': '44', 'Emmelichthyidae': '72', 'Gaidropsaridae': '50', 'Enoplosidae': '50', 'Epigonidae': '75', 'Leiognathidae': '8', 'Erethistidae': 'NA', 'Esocidae': '115', 'Euclichthyidae': '35', 'Eurypharyngidae': '100', 'Evermannellidae': 'NA', 'Nettastomatidae': '100', 'Fistulariidae': '200', 'Tripterygiidae': '8', 'Gigantactinidae': 'NA', 'Giganturidae': '20.3', 'Dactyloscopidae': '5.2', 'Glaucosomatidae': '70', 'Gnathanacanthidae': '30', 'Lethrinidae': '55', 'Anchariidae': '18.1', 'Gonorynchidae': '50', 'Grammatidae': '8', 'Grammicolepididae': '15', 'Gymnarchidae': '167', 'Rhamphichthyidae': '29.4', 'Gymnotidae': '28.5', 'Gyrinocheilidae': '35.5', 'Odacidae': '40', 'Batrachoididae': '29', 'Halosauridae': '90', 'Synodontidae': '40', 'Harpagiferidae': '8.2', 'Sebastidae': 'NA', 'Pangasiidae': '35', 'Helostomatidae': '30', 'Hemiodontidae': 'NA', 'Hepsetidae': '70', 'Heteropneustidae': '15', 'Hexagrammidae': 'NA', 'Himantolophidae': '20', 'Hiodontidae': '52', 'Holocentridae': '17', 'Erythrinidae': 'NA', 'Hoplichthyidae': '21.5', 'Howellidae': 'NA', 'Hypophthalmidae': 'NA', 'Hypoptychidae': '10', 'Phosichthyidae': '33', 'Icosteidae': '213', 'Pristigasteridae': '73', 'Indostomidae': '3', 'Inermiidae': '23', 'Synanceiidae': '40', 'Notocheiridae': '7.5', 'Istiophoridae': '254', 'Chiasmodontidae': '12.3', 'Uranoscopidae': '40', 'Kraemeriidae': '4.5', 'NA': 'NA', 'Kuhliidae': '45', 'Kurtidae': '63', 'Lacantuniidae': '42.7', 'Lampridae': '110', 'Latidae': '200', 'Latridae': '40', 'Terapontidae': '30', 'Scophthalmidae': '25', 'Leptobramidae': '37.5', 'Paralepididae': 'NA', 'Leptoscopidae': 'NA', 'Creediidae': '5', 'Linophrynidae': '3', 'Lobotidae': '100', 'Lophiidae': '200', 'Lophotidae': '200', 'Luvaridae': '200', 'Merlucciidae': '30', 'Mastacembelidae': '19', 'Malapteruridae': '48.5', 'Telmatherinidae': 'NA', 'Ereuniidae': '20', 'Molidae': '100', 'Neosebastidae': '50', 'Megalopidae': '150', 'Melamphaidae': '12.3', 'Melanocetidae': '2.9', 'Melanonidae': '28', 'Menidae': '30', 'Veliferidae': '40', 'Odontobutidae': '25', 'Milyeringidae': '5', 'Monocentridae': '17', 'Monodactylidae': 'NA', 'Synbranchidae': '150', 'Moringuidae': '120', 'Mullidae': '33', 'Muraenolepididae': '40', 'Lebiasinidae': '4', 'Nematistiidae': '163', 'Nematogenyidae': '40.7', 'Nemipteridae': 'NA', 'Neoscopelidae': '20', 'Plotosidae': 'NA', 'Phallostethidae': '3', 'Normanichthyidae': '11', 'Platytroctidae': '33', 'Notacanthidae': '9.5', 'Olyridae': '11', 'Opistognathidae': '10', 'Oplegnathidae': '45', 'Adrianichthyidae': '8', 'Ostracoberycidae': '23', 'Stromateidae': '25.1', 'Pantodontidae': '11.9', 'Pempherididae': '20', 'Mirapinnidae': '4.6', 'Paraulopidae': '8.5', 'Pegasidae': '18', 'Pentacerotidae': '56', 'Percopsidae': '9.6', 'Peristediidae': '30', 'Pholidichthyidae': '34', 'Anomalopidae': '12', 'Phycidae': '133', 'Samaridae': '6', 'Plectrogenidae': '6.8', 'Polycentridae': '8', 'Polymixiidae': '48', 'Polyodontidae': '300', 'Polyprionidae': '250', 'Pomatomidae': '130', 'Curimatidae': '37', 'Profundulidae': '10', 'Rhyacichthyidae': '25', 'Retropinnidae': '7.6', 'Psettodidae': '64', 'Pseudomugilidae': '7', 'Triacanthidae': '30', 'Pseudotrichonotidae': '9', 'Psilorhynchidae': '5.6', 'Ptilichthyidae': '40', 'Rachycentridae': '200', 'Ranicipitidae': '27.5', 'Regalecidae': '1100', 'Rhamphocottidae': '8.9', 'Rondeletiidae': 'NA', 'Salangidae': '10', 'Scatophagidae': '40', 'Schindleriidae': 'NA', 'Scoloplacidae': '1.8', 'Scombrolabracidae': '30', 'Scombropidae': '120', 'Serrivomeridae': '22', 'Siganidae': 'NA', 'Sillaginidae': '30', 'Sphyraenidae': '128', 'Sternopygidae': 'NA', 'Tetragonuridae': '70', 'Toxotidae': '18', 'Triacanthodidae': 'NA', 'Triodontidae': '54', 'Valenciidae': '8', 'Xenisthmidae': 'NA', 'Xiphiidae': '455', 'Zanclidae': 'NA', 'Zaniolepididae': '30', 'Zaproridae': '88'}\n"
     ]
    }
   ],
   "source": [
    "print(mydict)"
   ]
  },
  {
   "cell_type": "code",
   "execution_count": 26,
   "metadata": {},
   "outputs": [
    {
     "name": "stdout",
     "output_type": "stream",
     "text": [
      "averages: [1.5, 1.0, 0.0, 29.5]\n"
     ]
    }
   ],
   "source": [
    " \n",
    "\n",
    "def save(filename, matrix):\n",
    "    with open(filename, \"w\") as out_file:\n",
    "        for l in matrix:\n",
    "            out_file.write(\",\".join(map(str, l)) + \"\\n\")\n",
    "\n",
    "def load(filename):\n",
    "    with open(filename) as in_file:\n",
    "        matrix = []\n",
    "        for line in in_file:\n",
    "            matrix.append([float(s) for s in line.split(\",\")])\n",
    "        return matrix\n",
    "\n",
    "def averages(matrix):\n",
    "    return [sum(row)/len(row) for row in matrix]\n",
    "\n",
    "def main():\n",
    "    matrix = [\n",
    "        [1,2],\n",
    "        [1,1,1,1],\n",
    "        [-1,0,1],\n",
    "        [42,17]]\n",
    "\n",
    "    filename = \"fishdata.csv\"\n",
    "    save(filename, matrix)\n",
    "    matrix_read = load(filename)\n",
    "    print(\"averages: %s\" % averages(matrix_read))\n",
    "\n",
    "main()"
   ]
  },
  {
   "cell_type": "code",
   "execution_count": 29,
   "metadata": {},
   "outputs": [
    {
     "ename": "TypeError",
     "evalue": "'builtin_function_or_method' object is not subscriptable",
     "output_type": "error",
     "traceback": [
      "\u001b[0;31m---------------------------------------------------------------------------\u001b[0m",
      "\u001b[0;31mTypeError\u001b[0m                                 Traceback (most recent call last)",
      "\u001b[0;32m<ipython-input-29-b409c8e09639>\u001b[0m in \u001b[0;36m<module>\u001b[0;34m\u001b[0m\n\u001b[1;32m      1\u001b[0m \u001b[0mdf1\u001b[0m\u001b[0;34m=\u001b[0m\u001b[0mreader\u001b[0m \u001b[0;34m=\u001b[0m \u001b[0mcsv\u001b[0m\u001b[0;34m.\u001b[0m\u001b[0mreader\u001b[0m\u001b[0;34m\u001b[0m\u001b[0;34m\u001b[0m\u001b[0m\n\u001b[0;32m----> 2\u001b[0;31m \u001b[0mmy_columns\u001b[0m\u001b[0;34m=\u001b[0m \u001b[0mdf1\u001b[0m\u001b[0;34m[\u001b[0m\u001b[0;34m[\u001b[0m\u001b[0;34m'family'\u001b[0m\u001b[0;34m,\u001b[0m \u001b[0;34m'length'\u001b[0m\u001b[0;34m]\u001b[0m\u001b[0;34m]\u001b[0m\u001b[0;34m\u001b[0m\u001b[0;34m\u001b[0m\u001b[0m\n\u001b[0m",
      "\u001b[0;31mTypeError\u001b[0m: 'builtin_function_or_method' object is not subscriptable"
     ]
    }
   ],
   "source": [
    "df1=reader = csv.reader\n",
    "my_columns= df1[['family', 'length']]"
   ]
  },
  {
   "cell_type": "code",
   "execution_count": null,
   "metadata": {},
   "outputs": [],
   "source": [
    "#write a function that will take a string and return the statement \"This string has_ characters\"\n",
    "#len fxn?\n",
    "def str_len(as):\n",
    "    al=as.length()"
   ]
  }
 ],
 "metadata": {
  "kernelspec": {
   "display_name": "Python 3",
   "language": "python",
   "name": "python3"
  },
  "language_info": {
   "codemirror_mode": {
    "name": "ipython",
    "version": 3
   },
   "file_extension": ".py",
   "mimetype": "text/x-python",
   "name": "python",
   "nbconvert_exporter": "python",
   "pygments_lexer": "ipython3",
   "version": "3.7.5"
  }
 },
 "nbformat": 4,
 "nbformat_minor": 2
}
